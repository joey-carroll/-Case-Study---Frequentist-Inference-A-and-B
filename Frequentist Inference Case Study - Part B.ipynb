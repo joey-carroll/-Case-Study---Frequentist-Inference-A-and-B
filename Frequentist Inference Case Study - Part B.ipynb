{
 "cells": [
  {
   "cell_type": "markdown",
   "id": "7a395927",
   "metadata": {},
   "source": [
    "# Frequentist Inference Case Study - Part B"
   ]
  },
  {
   "cell_type": "markdown",
   "id": "e29e732d",
   "metadata": {},
   "source": [
    "Joey Carroll — Real-world application using `insurance2.csv`. Question: do smokers have higher average medical charges than non‑smokers?"
   ]
  },
  {
   "cell_type": "code",
   "execution_count": null,
   "id": "a2ca7da7",
   "metadata": {},
   "outputs": [],
   "source": [
    "import pandas as pd, numpy as np\n",
    "from scipy.stats import t, norm\n",
    "import matplotlib.pyplot as plt\n",
    "\n",
    "df = pd.read_csv(r'/mnt/data/frequentist_part_a_src/insurance2.csv')\n",
    "df.head()"
   ]
  },
  {
   "cell_type": "markdown",
   "id": "e2b747b8",
   "metadata": {},
   "source": [
    "## Two-sample Welch t-test"
   ]
  },
  {
   "cell_type": "code",
   "execution_count": null,
   "id": "9a1aed45",
   "metadata": {},
   "outputs": [],
   "source": [
    "g1 = df[df['smoker'].astype(str).str.lower().isin(['yes','y','1','true'])]['charges'].astype(float)\n",
    "g0 = df[df['smoker'].astype(str).str.lower().isin(['no','n','0','false'])]['charges'].astype(float)\n",
    "len(g1), len(g0), float(np.mean(g1)), float(np.mean(g0))"
   ]
  },
  {
   "cell_type": "code",
   "execution_count": null,
   "id": "8cb75830",
   "metadata": {},
   "outputs": [],
   "source": [
    "m1, s1, n1 = float(np.mean(g1)), float(np.std(g1, ddof=1)), len(g1)\n",
    "m0, s0, n0 = float(np.mean(g0)), float(np.std(g0, ddof=1)), len(g0)\n",
    "se = np.sqrt(s1**2/n1 + s0**2/n0)\n",
    "t_stat = (m1-m0)/se\n",
    "df_w = (s1**2/n1 + s0**2/n0)**2 / ((s1**2/n1)**2/(n1-1) + (s0**2/n0)**2/(n0-1))\n",
    "p_val = 1 - t.cdf(t_stat, df_w)\n",
    "(t_stat, df_w, p_val)"
   ]
  },
  {
   "cell_type": "code",
   "execution_count": null,
   "id": "1ad16656",
   "metadata": {},
   "outputs": [],
   "source": [
    "crit = t.ppf(0.975, df_w)\n",
    "ci_low = (m1-m0) - crit*se\n",
    "ci_high = (m1-m0) + crit*se\n",
    "(ci_low, ci_high)"
   ]
  },
  {
   "cell_type": "markdown",
   "id": "5ef0cdb5",
   "metadata": {},
   "source": [
    "**Interpretation (student voice):** If the CI is entirely above 0 and the one‑sided p‑value < 0.05, smokers have higher average charges."
   ]
  }
 ],
 "metadata": {},
 "nbformat": 4,
 "nbformat_minor": 5
}
